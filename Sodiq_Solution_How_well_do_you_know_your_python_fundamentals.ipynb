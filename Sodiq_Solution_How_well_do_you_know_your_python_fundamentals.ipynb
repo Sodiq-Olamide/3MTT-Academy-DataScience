{
  "cells": [
    {
      "cell_type": "markdown",
      "id": "1ee5ac12-5aec-40ed-bd7e-ea45842b425a",
      "metadata": {
        "id": "1ee5ac12-5aec-40ed-bd7e-ea45842b425a"
      },
      "source": [
        "# Problem Solving Activities\n",
        "\n",
        "This will consist of four problem solving acivities, where you are expected to attempt all the tasks"
      ]
    },
    {
      "cell_type": "markdown",
      "id": "97592219-3eef-49da-8dc1-085faa5f8bca",
      "metadata": {
        "id": "97592219-3eef-49da-8dc1-085faa5f8bca"
      },
      "source": [
        "## 1. Quiz Game\n",
        "\n",
        "**Task**: **Create a quiz game made up of 5 questions. The user should be able to enter in answers and the final score calculated.**\n",
        "\n",
        "**Objective**: To create a Python-based quiz game that allows users to answer 5 questions interactively and calculates their final score based on correct answers.\n",
        "\n",
        "**Acceptance Criteria**:\n",
        "\n",
        "- The quiz contains exactly five questions.\n",
        "- Questions and answers are stored in an easily modifiable structure (e.g., a list of dictionaries).\n",
        "- The user can input their answers, and responses are case-insensitive.\n",
        "- Correct answers increase the score, and incorrect answers display the correct answer.\n",
        "- The final score is displayed at the end of the quiz."
      ]
    },
    {
      "cell_type": "code",
      "execution_count": 35,
      "id": "f59314da",
      "metadata": {},
      "outputs": [
        {
          "name": "stdout",
          "output_type": "stream",
          "text": [
            "--------------------------------------------\n",
            "Welcome to the Python Programming Quiz!\n",
            "Answer the following questions to test your knowledge.\n",
            "Type the letter corresponding to your answer.\n",
            "--------------------------------------------\n",
            "\n",
            "1. What is the primary characteristic of Python programming language?\n",
            "A) Compiled\n",
            "B) Interpreted\n",
            "C) Hybrid\n",
            "D) Scripted\n",
            "Correct!\n",
            "\n",
            "2. Which data structure uses FIFO (First-In-First-Out) principle?\n",
            "A) Stack\n",
            "B) Tree\n",
            "C) Queue\n",
            "D) Graph\n",
            "Invalid input. Please enter a valid option.\n",
            "Invalid input. Please enter a valid option.\n",
            "Correct!\n",
            "\n",
            "3. What does 'HTTP' stand for?\n",
            "A) Hyper Text Transfer Protocol\n",
            "B) High Traffic Text Process\n",
            "C) Home Tool Transfer Package\n",
            "D) Hyperlink Translation Type Protocol\n",
            "Correct!\n",
            "\n",
            "4. Which algorithm is used for searching in a sorted array efficiently?\n",
            "A) Bubble Sort\n",
            "B) Binary Search\n",
            "C) Linear Search\n",
            "D) Quick Sort\n",
            "Invalid input. Please enter a valid option.\n",
            "Correct!\n",
            "\n",
            "5. What is the time complexity of a binary search algorithm?\n",
            "A) O(n)\n",
            "B) O(log n)\n",
            "C) O(n²)\n",
            "D) O(1)\n",
            "Correct!\n",
            "\n",
            "--------------------------------------------\n",
            "You scored 5 out of 5 questions.\n",
            "--------------------------------------------\n",
            "Goodbye!\n"
          ]
        }
      ],
      "source": [
        "cs_quiz = {\n",
        "    \"1. What is the primary characteristic of Python programming language?\": {\n",
        "    \"options\": [\"A) Compiled\", \"B) Interpreted\", \"C) Hybrid\", \"D) Scripted\"],\n",
        "    \"answer\": \"B\"\n",
        "    },\n",
        "    \"2. Which data structure uses FIFO (First-In-First-Out) principle?\": {\n",
        "    \"options\": [\"A) Stack\", \"B) Tree\", \"C) Queue\", \"D) Graph\"],\n",
        "    \"answer\": \"C\"\n",
        "    },\n",
        "    \"3. What does 'HTTP' stand for?\": {\n",
        "    \"options\": [\n",
        "    \"A) Hyper Text Transfer Protocol\",\n",
        "    \"B) High Traffic Text Process\",\n",
        "    \"C) Home Tool Transfer Package\",\n",
        "    \"D) Hyperlink Translation Type Protocol\"\n",
        "    ],\n",
        "    \"answer\": \"A\"\n",
        "    },\n",
        "    \"4. Which algorithm is used for searching in a sorted array efficiently?\": {\n",
        "    \"options\": [\"A) Bubble Sort\", \"B) Binary Search\", \"C) Linear Search\", \"D) Quick Sort\"],\n",
        "    \"answer\": \"B\"\n",
        "    },\n",
        "    \"5. What is the time complexity of a binary search algorithm?\": {\n",
        "    \"options\": [\"A) O(n)\", \"B) O(log n)\", \"C) O(n²)\", \"D) O(1)\"],\n",
        "    \"answer\": \"B\"\n",
        "    }\n",
        "}\n",
        "\n",
        "print(\"--------------------------------------------\")\n",
        "print(\"Welcome to the Python Programming Quiz!\")\n",
        "print(\"Answer the following questions to test your knowledge.\")\n",
        "print(\"Type the letter corresponding to your answer.\")\n",
        "print(\"--------------------------------------------\")\n",
        "print()\n",
        "score_count = 0\n",
        "\n",
        "for key, value in cs_quiz.items():\n",
        "    print(key)\n",
        "    for option in value[\"options\"]:\n",
        "        print(option)\n",
        "    while True:    \n",
        "        try:    \n",
        "            answer = input(\"Enter your answer: \").upper()\n",
        "            if answer not in [\"A\", \"B\", \"C\", \"D\"]:\n",
        "                raise Exception\n",
        "            else:\n",
        "                break\n",
        "        except Exception:\n",
        "            print(\"Invalid input. Please enter a valid option.\")\n",
        "        \n",
        "    if answer == value[\"answer\"]:\n",
        "        score_count+=1\n",
        "        print(\"Correct!\")\n",
        "    else:\n",
        "        print(\"Incorrect. The correct answer is:\", value[\"answer\"])\n",
        "    print()\n",
        "print(\"--------------------------------------------\")    \n",
        "print(\"You scored\", score_count, \"out of\", len(cs_quiz), \"questions.\")\n",
        "print(\"--------------------------------------------\")\n",
        "print(\"Goodbye!\")"
      ]
    },
    {
      "cell_type": "markdown",
      "id": "79ed75a7-3b62-42c8-bb3d-cf31f523508f",
      "metadata": {
        "id": "79ed75a7-3b62-42c8-bb3d-cf31f523508f"
      },
      "source": [
        "## 2. Number Swapping\n",
        "\n",
        "**Task**: **Swapping two numbers in Python.**\n",
        "\n",
        "**Objective**: Create a Python program that swaps two numbers entered by the user and displays the values before and after swapping.\n",
        "\n",
        "**Acceptance Criteria**:\n",
        "- The program accepts two numbers as input from the user.\n",
        "- The numbers are displayed before and after swapping.\n",
        "- The program uses Python’s tuple unpacking for swapping.\n",
        "- Invalid input (non-numeric) is handled gracefully with an error message.\n",
        "- The program successfully swaps the values without requiring a temporary variable."
      ]
    },
    {
      "cell_type": "code",
      "execution_count": 14,
      "id": "ElfQ7_c9aUxY",
      "metadata": {
        "colab": {
          "background_save": true,
          "base_uri": "https://localhost:8080/"
        },
        "id": "ElfQ7_c9aUxY",
        "outputId": "7dd735fc-d0ca-44e5-b265-d455ce51610f"
      },
      "outputs": [
        {
          "name": "stdout",
          "output_type": "stream",
          "text": [
            "--------------------------------------------\n",
            "Welcome to the Number Swapper!\n",
            "--------------------------------------------\n",
            "--------------------------------------------\n",
            "Before swapping:\n",
            "The first number is: 56\n",
            "The second number is: 9899\n",
            "--------------------------------------------\n",
            "--------------------------------------------\n",
            "After swapping:\n",
            "The first number is now: 9899\n",
            "The second number is now: 56\n",
            "--------------------------------------------\n",
            "Goodbye!\n"
          ]
        }
      ],
      "source": [
        "def main():\n",
        "  print(\"--------------------------------------------\")\n",
        "  print(\"Welcome to the Number Swapper!\")\n",
        "  print(\"--------------------------------------------\")\n",
        "\n",
        "  while True:\n",
        "    try:\n",
        "      num1 = int(input(\"Enter the first number: \"))\n",
        "      num2 = int(input(\"Enter the second number: \"))\n",
        "      print(\"--------------------------------------------\")\n",
        "      print('Before swapping:')\n",
        "      print(f\"The first number is: {num1}\")\n",
        "      print(f\"The second number is: {num2}\")\n",
        "      print(\"--------------------------------------------\")\n",
        "      break\n",
        "    except Exception:\n",
        "      print(\"Invalid input. Please enter valid numbers.\")\n",
        "      \n",
        "  num1, num2 = numberswap(num1, num2)\n",
        "  print(\"--------------------------------------------\")\n",
        "  print(\"After swapping:\")\n",
        "  print(f\"The first number is now: {num1}\")\n",
        "  print(f\"The second number is now: {num2}\")\n",
        "  print(\"--------------------------------------------\")\n",
        "  print(\"Goodbye!\")\n",
        "\n",
        "\n",
        "\n",
        "def numberswap(num1, num2):\n",
        "    num1, num2 = num2, num1\n",
        "    return num1, num2\n",
        "\n",
        "\n",
        "if __name__ == \"__main__\":\n",
        "  main()\n"
      ]
    },
    {
      "cell_type": "markdown",
      "id": "0f8c8201-65a2-415c-8890-693cfe0bd412",
      "metadata": {
        "id": "0f8c8201-65a2-415c-8890-693cfe0bd412"
      },
      "source": [
        "## 3. Prime/Armstrong/Palindrome Number Identifier\n",
        "\n",
        "**Task**: **Write a code/logic to determine if the value entered is a Prime number, an Armstrong Number or a Palindrome number.**\n",
        "\n",
        "**Objective**: To create a Python program that checks whether a user-entered number is a Prime number, Armstrong number, or Palindrome, and displays the results accordingly.\n",
        "\n",
        "**Acceptance Criteria**:\n",
        "- The program accepts a single integer input from the user.\n",
        "- It checks and identifies if the number is a:\n",
        "    - Prime number: A number greater than 1 that is divisible only by 1 and itself.\n",
        "    - Armstrong number: A number equal to the sum of its digits raised to the power of the number of digits.\n",
        "    - Palindrome: A number that reads the same backward as forward.\n",
        "- The program displays appropriate messages for each property satisfied by the number.\n",
        "- If the number does not meet any criteria, a message is displayed stating so.\n",
        "- Non-integer input is handled gracefully with an error message."
      ]
    },
    {
      "cell_type": "code",
      "execution_count": null,
      "id": "dba8a6bc",
      "metadata": {},
      "outputs": [
        {
          "name": "stdout",
          "output_type": "stream",
          "text": [
            "--------------------------------------------\n",
            "Welcome to the Prime Number, Armstrong Number, and Palindrome Checker!\n",
            "--------------------------------------------\n",
            "120 is not a prime number, Armstrong number, or palindrome number.\n"
          ]
        }
      ],
      "source": [
        "def main():\n",
        "    print(\"--------------------------------------------\")\n",
        "    print(\"Welcome to the Prime Number, Armstrong Number, and Palindrome Checker!\")\n",
        "    print(\"--------------------------------------------\")\n",
        "\n",
        "    while True:\n",
        "        try:\n",
        "            num = int(input(\"Enter a number: \"))\n",
        "            break\n",
        "        except Exception:\n",
        "            print(\"Invalid input. Please enter a valid number.\")\n",
        "            \n",
        "    if prime_numbers(num):\n",
        "        print(f\"{num} is a prime number.\")\n",
        "    \n",
        "    if palindrome(num):\n",
        "        print(f\"{num} is a palindrome number.\")\n",
        "        \n",
        "    if armstrong(num):\n",
        "        print(f\"{num} is an Armstrong number.\")\n",
        "        \n",
        "    if not prime_numbers(num) and not armstrong(num) and not palindrome(num):\n",
        "        print(f\"{num} is not a prime number, Armstrong number, or palindrome number.\")\n",
        "        \n",
        "    print(\"--------------------------------------------\")\n",
        "    print(\"Goodbye!\")\n",
        "\n",
        "def prime_numbers(num):\n",
        "    counter = 0\n",
        "    for i in range(1, num+1):\n",
        "        if num % i == 0:\n",
        "            counter += 1\n",
        "    if counter == 2:\n",
        "        return True\n",
        "    else:\n",
        "        return False\n",
        "    \n",
        "def armstrong(num):\n",
        "    sum = 0\n",
        "    num_list = [int(i) for i in str(num)]\n",
        "    for i in num_list:\n",
        "        sum += i**len(num_list)\n",
        "    if sum == num:\n",
        "        return True\n",
        "    else:\n",
        "        return False\n",
        "    \n",
        "def palindrome(num):\n",
        "    num = str(num)\n",
        "    if num == num[::-1]:\n",
        "        return True\n",
        "    else:\n",
        "        return False\n",
        "    \n",
        "\n",
        "if __name__ == \"__main__\":\n",
        "    main()\n"
      ]
    },
    {
      "cell_type": "markdown",
      "id": "d0eb118f-70e2-483c-ac16-9373fec0ae05",
      "metadata": {
        "id": "d0eb118f-70e2-483c-ac16-9373fec0ae05"
      },
      "source": [
        "## 4. The Fibonacci Sequence\n",
        "\n",
        "**Task**: **Generate the Fibonacci Sequence.**\n",
        "\n",
        "**Objective**: To create a Python program that generates the first n terms of the Fibonacci sequence based on user input.\n",
        "\n",
        "**Acceptance Criteria**:\n",
        "- The program accepts a positive integer input (n) from the user.\n",
        "- It generates and displays the first n terms of the Fibonacci sequence.\n",
        "- The Fibonacci sequence is calculated iteratively.\n",
        "- If the input is zero or negative, an appropriate error message is displayed.\n",
        "- Non-integer input is handled gracefully with an error message."
      ]
    },
    {
      "cell_type": "code",
      "execution_count": null,
      "id": "nJs3kYbeYH3G",
      "metadata": {
        "colab": {
          "base_uri": "https://localhost:8080/"
        },
        "id": "nJs3kYbeYH3G",
        "outputId": "f8b6f635-8395-42c1-a47b-e9ee63a1638b"
      },
      "outputs": [
        {
          "name": "stdout",
          "output_type": "stream",
          "text": [
            "--------------------------------------------\n",
            "Welcome to the Fibonacci Sequence Generator!\n",
            "--------------------------------------------\n",
            "--------------------------------------------\n",
            "The 9th Fibonacci number is: 34\n",
            "--------------------------------------------\n"
          ]
        }
      ],
      "source": [
        "def main():\n",
        "  print(\"--------------------------------------------\")\n",
        "  print(\"Welcome to the Fibonacci Sequence Generator!\")\n",
        "  print(\"--------------------------------------------\")\n",
        "\n",
        "  while True:\n",
        "    try:\n",
        "      num = int(input(\"Enter a positive integer: \"))\n",
        "      try:\n",
        "        if num < 0:\n",
        "          raise Exception(\"Invalid input. Please enter a positive number.\")\n",
        "      except Exception as e:\n",
        "        print(e)\n",
        "      else:\n",
        "          break\n",
        "    except Exception:\n",
        "      print(\"Invalid input. Please enter a valid number.\")\n",
        "      \n",
        "  result = fibonacci(num)\n",
        "  print(\"--------------------------------------------\")\n",
        "  print(f\"The {num}th Fibonacci number is: {result}\")\n",
        "  print(\"--------------------------------------------\")\n",
        "  print(\"Goodbye!\")\n",
        "\n",
        "# Function to calculate the nth Fibonacci number\n",
        "def fibonacci(num):\n",
        "  fb_list = [0,1]  # noqa: F841\n",
        "  if num == 0 or num == 1:\n",
        "    return fb_list[num]\n",
        "  else:\n",
        "    for i in range(2, num+1):\n",
        "      fb_list.append(fb_list[i-1] + fb_list[i-2])\n",
        "    return fb_list[-1]\n",
        "\n",
        "\n",
        "if __name__ == \"__main__\":\n",
        "  main()"
      ]
    },
    {
      "cell_type": "code",
      "execution_count": null,
      "id": "QX5DHDPmYfZ_",
      "metadata": {
        "id": "QX5DHDPmYfZ_"
      },
      "outputs": [],
      "source": []
    }
  ],
  "metadata": {
    "colab": {
      "provenance": []
    },
    "kernelspec": {
      "display_name": "Python 3",
      "language": "python",
      "name": "python3"
    },
    "language_info": {
      "codemirror_mode": {
        "name": "ipython",
        "version": 3
      },
      "file_extension": ".py",
      "mimetype": "text/x-python",
      "name": "python",
      "nbconvert_exporter": "python",
      "pygments_lexer": "ipython3",
      "version": "3.13.0"
    }
  },
  "nbformat": 4,
  "nbformat_minor": 5
}
