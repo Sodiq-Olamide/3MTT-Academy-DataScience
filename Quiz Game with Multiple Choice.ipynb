{
 "cells": [
  {
   "cell_type": "markdown",
   "metadata": {},
   "source": [
    "## Task\n",
    "\n",
    "Create a quiz game with multiple-choice questions, branching based on user input and calculating scores."
   ]
  },
  {
   "cell_type": "code",
   "execution_count": null,
   "metadata": {},
   "outputs": [],
   "source": [
    "cs_quiz = {\n",
    "    \"1. What is the primary characteristic of Python programming language?\": {\n",
    "    \"options\": [\"A) Compiled\", \"B) Interpreted\", \"C) Hybrid\", \"D) Scripted\"],\n",
    "    \"answer\": \"B\"\n",
    "    },\n",
    "    \"2. Which data structure uses FIFO (First-In-First-Out) principle?\": {\n",
    "    \"options\": [\"A) Stack\", \"B) Tree\", \"C) Queue\", \"D) Graph\"],\n",
    "    \"answer\": \"C\"\n",
    "    },\n",
    "    \"3. What does 'HTTP' stand for?\": {\n",
    "    \"options\": [\n",
    "    \"A) Hyper Text Transfer Protocol\",\n",
    "    \"B) High Traffic Text Process\",\n",
    "    \"C) Home Tool Transfer Package\",\n",
    "    \"D) Hyperlink Translation Type Protocol\"\n",
    "    ],\n",
    "    \"answer\": \"A\"\n",
    "    },\n",
    "    \"4. Which algorithm is used for searching in a sorted array efficiently?\": {\n",
    "    \"options\": [\"A) Bubble Sort\", \"B) Binary Search\", \"C) Linear Search\", \"D) Quick Sort\"],\n",
    "    \"answer\": \"B\"\n",
    "    },\n",
    "    \"5. What is the time complexity of a binary search algorithm?\": {\n",
    "    \"options\": [\"A) O(n)\", \"B) O(log n)\", \"C) O(n²)\", \"D) O(1)\"],\n",
    "    \"answer\": \"B\"\n",
    "    },\n",
    "    \"6. Which of these is NOT a programming paradigm?\": {\n",
    "    \"options\": [\"A) Object-Oriented\", \"B) Functional\", \"C) Modular\", \"D) Fractional\"],\n",
    "    \"answer\": \"D\"\n",
    "    },\n",
    "    \"7. What does SQL stand for?\": {\n",
    "    \"options\": [\n",
    "    \"A) Structured Question Language\",\n",
    "    \"B) Standard Query Language\",\n",
    "    \"C) Structured Query Language\",\n",
    "    \"D) System Query Logic\"\n",
    "    ],\n",
    "    \"answer\": \"C\"\n",
    "    },\n",
    "    \"8. Which protocol is used for secure communication over a network?\": {\n",
    "    \"options\": [\"A) HTTP\", \"B) FTP\", \"C) HTTPS\", \"D) SMTP\"],\n",
    "    \"answer\": \"C\"\n",
    "    },\n",
    "    \"9. What is the main purpose of an operating system?\": {\n",
    "    \"options\": [\n",
    "    \"A) Run applications\",\n",
    "    \"B) Manage hardware resources\",\n",
    "    \"C) Design websites\",\n",
    "    \"D) Create documents\"\n",
    "    ],\n",
    "    \"answer\": \"B\"\n",
    "    },\n",
    "    \"10. Which data type represents true/false values in Python?\": {\n",
    "    \"options\": [\"A) bool\", \"B) int\", \"C) float\", \"D) str\"],\n",
    "    \"answer\": \"A\"\n",
    "    }\n",
    "}\n",
    "\n",
    "print(\"Welcome to the Python Programming Quiz!\")\n",
    "print(\"Answer the following questions to test your knowledge.\")\n",
    "print(\"Type the letter corresponding to your answer.\")\n",
    "print()\n",
    "score_count = 0\n",
    "\n",
    "for key, value in cs_quiz.items():\n",
    "    print(key)\n",
    "    for option in value[\"options\"]:\n",
    "        print(option)\n",
    "    answer = input(\"Enter your answer: \").upper()\n",
    "    if answer == value[\"answer\"]:\n",
    "        score_count+=1\n",
    "        print(\"Correct!\")\n",
    "    else:\n",
    "        print(\"Incorrect. The correct answer is:\", value[\"answer\"])\n",
    "    print()\n",
    "    \n",
    "print(\"You scored\", score_count, \"out of\", len(cs_quiz), \"questions.\")"
   ]
  },
  {
   "cell_type": "markdown",
   "metadata": {},
   "source": [
    "\n"
   ]
  }
 ],
 "metadata": {
  "kernelspec": {
   "display_name": "Python 3",
   "language": "python",
   "name": "python3"
  },
  "language_info": {
   "codemirror_mode": {
    "name": "ipython",
    "version": 3
   },
   "file_extension": ".py",
   "mimetype": "text/x-python",
   "name": "python",
   "nbconvert_exporter": "python",
   "pygments_lexer": "ipython3",
   "version": "3.13.0"
  }
 },
 "nbformat": 4,
 "nbformat_minor": 2
}
